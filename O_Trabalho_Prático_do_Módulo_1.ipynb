{
  "nbformat": 4,
  "nbformat_minor": 0,
  "metadata": {
    "colab": {
      "name": "O Trabalho Prático do Módulo 1.ipynb",
      "provenance": [],
      "collapsed_sections": [],
      "authorship_tag": "ABX9TyOExgQGelUxBdrw5Nk5uXfy",
      "include_colab_link": true
    },
    "kernelspec": {
      "name": "python3",
      "display_name": "Python 3"
    }
  },
  "cells": [
    {
      "cell_type": "markdown",
      "metadata": {
        "id": "view-in-github",
        "colab_type": "text"
      },
      "source": [
        "<a href=\"https://colab.research.google.com/github/guzi95/Python-codes/blob/master/O_Trabalho_Pr%C3%A1tico_do_M%C3%B3dulo_1.ipynb\" target=\"_parent\"><img src=\"https://colab.research.google.com/assets/colab-badge.svg\" alt=\"Open In Colab\"/></a>"
      ]
    },
    {
      "cell_type": "code",
      "metadata": {
        "id": "91Ydz-uF7uNL",
        "colab_type": "code",
        "colab": {
          "base_uri": "https://localhost:8080/",
          "height": 52
        },
        "outputId": "63b542da-2efb-46aa-e29d-ea60e6ac40f9"
      },
      "source": [
        "idade = int(input(\"Entre com a sua idade:\"))\n",
        "nova_idade = idade + 1\n",
        "print(\"No próximo ano você terá: {} anos\".format(nova_idade))"
      ],
      "execution_count": 1,
      "outputs": [
        {
          "output_type": "stream",
          "text": [
            "Entre com a sua idade:25\n",
            "No próximo ano você terá: 26 anos\n"
          ],
          "name": "stdout"
        }
      ]
    },
    {
      "cell_type": "code",
      "metadata": {
        "id": "LGfNftM78UoV",
        "colab_type": "code",
        "colab": {
          "base_uri": "https://localhost:8080/",
          "height": 34
        },
        "outputId": "58825e2a-7d7a-4d5b-dd28-cdc8f1ab0143"
      },
      "source": [
        "lado_a=35\n",
        "lado_b=14.33333\n",
        "area_do_retangulo= (lado_a)*(lado_b)\n",
        "print('O retângulo de lado A = %d e lado B = %2f é %.3f '%(lado_a,lado_b,area_do_retangulo))"
      ],
      "execution_count": 2,
      "outputs": [
        {
          "output_type": "stream",
          "text": [
            "O retângulo de lado A = 35 e lado B = 14.333330 é 501.667 \n"
          ],
          "name": "stdout"
        }
      ]
    },
    {
      "cell_type": "code",
      "metadata": {
        "id": "nBvDnFcV8-rc",
        "colab_type": "code",
        "colab": {}
      },
      "source": [
        "lista_1= [1,2,'IGTI']\n",
        "lista_2= [2,3,'Bootcamp']\n",
        "lista_3= lista_1 + lista_2\n",
        "print(lista_3)"
      ],
      "execution_count": null,
      "outputs": []
    },
    {
      "cell_type": "code",
      "metadata": {
        "id": "4msXgAuq9VyS",
        "colab_type": "code",
        "colab": {
          "base_uri": "https://localhost:8080/",
          "height": 104
        },
        "outputId": "ff47b3d0-2228-4677-d1f8-0437d89499b1"
      },
      "source": [
        "chute=int(input('Entre com um valor inteiro de 0 a 30:'))\n",
        "adivinhacao=[5,6,10,14,16,20,30]\n",
        "if chute in adivinhacao:\n",
        "  print('Você acertou um dos números que eu estava pensando')\n",
        "\n",
        "  if chute > 15:\n",
        "    print('Esse número é maior do que 20.')\n",
        "\n",
        "  if chute < 20:\n",
        "    print('Esse número é menor do que 20.')\n",
        "\n",
        "    print('Você é fera.')\n",
        "else:\n",
        "  print('Que pena, você errou. Pode tentar outra vez.')\n",
        "\n",
        "print('Obrigado por participar.')"
      ],
      "execution_count": 7,
      "outputs": [
        {
          "output_type": "stream",
          "text": [
            "Entre com um valor inteiro de 0 a 30:10\n",
            "Você acertou um dos números que eu estava pensando\n",
            "Esse número é menor do que 20.\n",
            "Você é fera.\n",
            "Obrigado por participar.\n"
          ],
          "name": "stdout"
        }
      ]
    },
    {
      "cell_type": "code",
      "metadata": {
        "id": "UKBQkIHl_oRT",
        "colab_type": "code",
        "colab": {
          "base_uri": "https://localhost:8080/",
          "height": 52
        },
        "outputId": "21c69991-4dd4-4474-f19d-51975f6da7f1"
      },
      "source": [
        "frutas = ['maça','banana','uva','goiaba']\n",
        "for x in frutas:\n",
        "  if x == 'uva':\n",
        "    break\n",
        "  print(x)"
      ],
      "execution_count": 9,
      "outputs": [
        {
          "output_type": "stream",
          "text": [
            "maça\n",
            "banana\n"
          ],
          "name": "stdout"
        }
      ]
    },
    {
      "cell_type": "code",
      "metadata": {
        "id": "ZiU5jDCYAYLa",
        "colab_type": "code",
        "colab": {
          "base_uri": "https://localhost:8080/",
          "height": 121
        },
        "outputId": "37caef6b-a8d7-4512-f1a9-1787089d39dd"
      },
      "source": [
        "n= 5\n",
        "while n >= 0:\n",
        "  n -= 1\n",
        "  print(n)"
      ],
      "execution_count": 10,
      "outputs": [
        {
          "output_type": "stream",
          "text": [
            "4\n",
            "3\n",
            "2\n",
            "1\n",
            "0\n",
            "-1\n"
          ],
          "name": "stdout"
        }
      ]
    }
  ]
}